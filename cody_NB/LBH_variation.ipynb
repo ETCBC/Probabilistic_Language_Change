{
 "cells": [
  {
   "cell_type": "markdown",
   "metadata": {},
   "source": [
    "# Variation Amongst LBH Books\n",
    "\n",
    "In our model, we have seen a tendency for LBH books to \"jump around\" between clusters while SBH books have generally stayed together. In this notebook, I want to pull out specific examples that could help explain the tendencies. I will seek to get an idea of the data itself with basic counts and ratios to directly observe potential causes for the inconsistency of the LBH books. "
   ]
  },
  {
   "cell_type": "markdown",
   "metadata": {},
   "source": [
    "### Load All Data"
   ]
  },
  {
   "cell_type": "code",
   "execution_count": 9,
   "metadata": {},
   "outputs": [],
   "source": [
    "import os\n",
    "os.sys.path.append('../project_code')\n",
    "\n",
    "from data.bhsa import book_sets, get_data, TF, api\n",
    "api.makeAvailableIn(globals())\n",
    "from markov.Markov_Chain import *\n",
    "from pca.PCA import * \n",
    "from clustering.Clustering_analysis import *\n",
    "from distance.Distances import *\n",
    "from Frequency.Occurences import *\n",
    "from scipy.cluster.hierarchy import cophenet\n",
    "from Figures.Raw_Transformed import * \n",
    "\n",
    "data = get_data(books=[\"sbh\",\"lbh\"])#\n",
    "features = {'clause_types', 'phrase_functions', 'phrase_types', 'word_pos'}\n",
    "domain = {'N', 'Q', 'D'}"
   ]
  },
  {
   "cell_type": "code",
   "execution_count": 8,
   "metadata": {},
   "outputs": [
    {
     "name": "stdout",
     "output_type": "stream",
     "text": [
      "  0.00s loading features ...\n",
      "  0.01s All additional features loaded - for details use loadLog()\n"
     ]
    }
   ],
   "source": [
    "TF.load('', add=True)"
   ]
  },
  {
   "cell_type": "code",
   "execution_count": 11,
   "metadata": {},
   "outputs": [
    {
     "data": {
      "text/plain": [
       "dict_keys(['clause_types', 'phrase_functions', 'phrase_types', 'word_pos'])"
      ]
     },
     "execution_count": 11,
     "metadata": {},
     "output_type": "execute_result"
    }
   ],
   "source": [
    "data.keys()"
   ]
  },
  {
   "cell_type": "markdown",
   "metadata": {},
   "source": [
    "## Test For Consistency Amongst Various Groups\n",
    "\n",
    "In our [analysis notebook](../etienne_NB/Testing Etienne), we have seen that discourse appears to have more consistency between the books than narrative:\n",
    "\n",
    "### Discourse Cluster\n",
    "![discourse cluster](../images/discourse_cluster.png)\n",
    "\n",
    "\n",
    "### Narrative Cluster\n",
    "![narrative cluster](../images/narrative_cluster.png)\n"
   ]
  },
  {
   "cell_type": "code",
   "execution_count": null,
   "metadata": {},
   "outputs": [],
   "source": []
  }
 ],
 "metadata": {
  "kernelspec": {
   "display_name": "Python 3",
   "language": "python",
   "name": "python3"
  },
  "language_info": {
   "codemirror_mode": {
    "name": "ipython",
    "version": 3
   },
   "file_extension": ".py",
   "mimetype": "text/x-python",
   "name": "python",
   "nbconvert_exporter": "python",
   "pygments_lexer": "ipython3",
   "version": "3.6.3"
  }
 },
 "nbformat": 4,
 "nbformat_minor": 2
}
