{
 "cells": [
  {
   "cell_type": "markdown",
   "metadata": {},
   "source": [
    "# Testing Data Analysis Functions\n",
    "\n"
   ]
  },
  {
   "cell_type": "code",
   "execution_count": 1,
   "metadata": {},
   "outputs": [],
   "source": [
    "import os\n",
    "os.sys.path.append('../project_code')\n",
    "\n",
    "from data.bhsa import book_sets, get_data\n",
    "from markov.transitions import make_transitions, make_stacked_transitions\n",
    "\n",
    "test = get_data(books='all')"
   ]
  },
  {
   "cell_type": "code",
   "execution_count": 2,
   "metadata": {},
   "outputs": [],
   "source": [
    "stacked_freq, stacked_norm = make_stacked_transitions(test)"
   ]
  },
  {
   "cell_type": "code",
   "execution_count": 3,
   "metadata": {},
   "outputs": [],
   "source": [
    "freq, norm = make_transitions(test['clause_types']['D'])"
   ]
  },
  {
   "cell_type": "code",
   "execution_count": 7,
   "metadata": {},
   "outputs": [
    {
     "data": {
      "text/plain": [
       "dict_keys(['clause_types', 'phrase_functions', 'phrase_types', 'word_pos'])"
      ]
     },
     "execution_count": 7,
     "metadata": {},
     "output_type": "execute_result"
    }
   ],
   "source": [
    "test.keys()"
   ]
  },
  {
   "cell_type": "code",
   "execution_count": 5,
   "metadata": {},
   "outputs": [
    {
     "data": {
      "text/plain": [
       "1_Chronicles     32001.132718\n",
       "1_Kings          32001.132718\n",
       "1_Samuel         32001.132718\n",
       "2_Chronicles     32001.132718\n",
       "2_Kings          32001.132718\n",
       "2_Samuel         32001.132718\n",
       "Amos             30963.163968\n",
       "Daniel           32001.132718\n",
       "Deuteronomy      32001.132718\n",
       "Ecclesiastes     32001.132718\n",
       "Esther           32001.132718\n",
       "Exodus           32001.132718\n",
       "Ezekiel          32001.132718\n",
       "Ezra             32001.132718\n",
       "Genesis          32001.132718\n",
       "Habakkuk         32001.132718\n",
       "Haggai           30963.163968\n",
       "Hosea            32001.132718\n",
       "Isaiah           32001.132718\n",
       "Jeremiah         32001.132718\n",
       "Job              32001.132718\n",
       "Joel             30963.163968\n",
       "Jonah            30424.606402\n",
       "Joshua           32001.132718\n",
       "Judges           32001.132718\n",
       "Lamentations     32001.132718\n",
       "Leviticus        32001.132718\n",
       "Malachi          32001.132718\n",
       "Micah            30963.163968\n",
       "Nahum            30963.163968\n",
       "Nehemiah         32001.132718\n",
       "Numbers          32001.132718\n",
       "Obadiah          19933.295547\n",
       "Proverbs         32001.132718\n",
       "Psalms           32001.132718\n",
       "Ruth             32001.132718\n",
       "Song_of_songs    30963.163968\n",
       "Zechariah        32001.132718\n",
       "Zephaniah        32001.132718\n",
       "dtype: float64"
      ]
     },
     "execution_count": 5,
     "metadata": {},
     "output_type": "execute_result"
    }
   ],
   "source": [
    "stacked_norm.sum()"
   ]
  },
  {
   "cell_type": "code",
   "execution_count": 6,
   "metadata": {},
   "outputs": [
    {
     "data": {
      "text/plain": [
       "Clause_Begin->Clause_End    728.435897\n",
       "Clause_Begin->CP            726.667274\n",
       "Clause_Begin->conj          722.040630\n",
       "Clause_Begin->Conj          696.389470\n",
       "subs->Clause_End            690.647559\n",
       "prep->subs                  643.557953\n",
       "PP->Clause_End              635.833864\n",
       "verb->prep                  392.413386\n",
       "VP->PP                      378.472538\n",
       "verb->subs                  361.020315\n",
       "NP->Clause_End              348.194735\n",
       "VP->NP                      348.194735\n",
       "conj->verb                  329.627244\n",
       "CP->VP                      317.916932\n",
       "subs->nmpr                  313.930709\n",
       "Conj->Pred                  302.778031\n",
       "subs->prep                  282.537638\n",
       "subs->subs                  282.537638\n",
       "Cmpl->Clause_End            257.361326\n",
       "nmpr->Clause_End            235.448032\n",
       "verb->Clause_End            219.751496\n",
       "art->subs                   219.751496\n",
       "Pred->Cmpl                  211.944621\n",
       "VP->Clause_End              211.944621\n",
       "Clause_Begin->VP            196.805720\n",
       "Pred->Subj                  196.805720\n",
       "NP->PP                      196.805720\n",
       "nega->verb                  188.358425\n",
       "Conj->Subj                  181.666818\n",
       "Nega->Pred                  181.666818\n",
       "                               ...    \n",
       "AdvP->NP                      0.000000\n",
       "AdvP->Clause_End              0.000000\n",
       "AdvP->CP                      0.000000\n",
       "AdvP->AdjP                    0.000000\n",
       "AdjP->VP                      0.000000\n",
       "AdjP->PrNP                    0.000000\n",
       "CP->PP                        0.000000\n",
       "CP->PrNP                      0.000000\n",
       "IPrP->PP                      0.000000\n",
       "CP->VP                        0.000000\n",
       "IPrP->NP                      0.000000\n",
       "IPrP->Clause_End              0.000000\n",
       "IPrP->AdjP                    0.000000\n",
       "DPrP->VP                      0.000000\n",
       "DPrP->PPrP                    0.000000\n",
       "DPrP->PP                      0.000000\n",
       "DPrP->NP                      0.000000\n",
       "DPrP->Clause_End              0.000000\n",
       "Clause_Begin->VP              0.000000\n",
       "Clause_Begin->PrNP            0.000000\n",
       "Clause_Begin->PPrP            0.000000\n",
       "Clause_Begin->PP              0.000000\n",
       "Clause_Begin->NegP            0.000000\n",
       "Clause_Begin->InrP            0.000000\n",
       "Clause_Begin->InjP            0.000000\n",
       "Clause_Begin->IPrP            0.000000\n",
       "Clause_Begin->DPrP            0.000000\n",
       "Clause_Begin->CP              0.000000\n",
       "Clause_Begin->AdjP            0.000000\n",
       "AjCl->AjCl                    0.000000\n",
       "Name: Obadiah, Length: 3159, dtype: float64"
      ]
     },
     "execution_count": 6,
     "metadata": {},
     "output_type": "execute_result"
    }
   ],
   "source": [
    "stacked_norm['Obadiah'].sort_values(ascending=False)"
   ]
  }
 ],
 "metadata": {
  "kernelspec": {
   "display_name": "Python 3",
   "language": "python",
   "name": "python3"
  },
  "language_info": {
   "codemirror_mode": {
    "name": "ipython",
    "version": 3
   },
   "file_extension": ".py",
   "mimetype": "text/x-python",
   "name": "python",
   "nbconvert_exporter": "python",
   "pygments_lexer": "ipython3",
   "version": "3.6.3"
  }
 },
 "nbformat": 4,
 "nbformat_minor": 2
}
