{
 "cells": [
  {
   "cell_type": "markdown",
   "metadata": {},
   "source": [
    "# Testing Data Analysis Functions\n",
    "\n"
   ]
  },
  {
   "cell_type": "code",
   "execution_count": 3,
   "metadata": {},
   "outputs": [],
   "source": [
    "import os\n",
    "os.sys.path.append('../project_code')\n",
    "\n",
    "\n",
    "from data.bhsa import book_sets, get_data\n",
    "\n",
    "\n",
    "test = get_data(books='all')"
   ]
  },
  {
   "cell_type": "code",
   "execution_count": 4,
   "metadata": {},
   "outputs": [
    {
     "data": {
      "text/plain": [
       "dict_keys(['clause_types', 'phrase_functions', 'phrase_types', 'word_pos'])"
      ]
     },
     "execution_count": 4,
     "metadata": {},
     "output_type": "execute_result"
    }
   ],
   "source": [
    "test.keys()"
   ]
  },
  {
   "cell_type": "code",
   "execution_count": 7,
   "metadata": {},
   "outputs": [
    {
     "data": {
      "text/plain": [
       "('Genesis',\n",
       " 'Exodus',\n",
       " 'Leviticus',\n",
       " 'Numbers',\n",
       " 'Deuteronomy',\n",
       " 'Joshua',\n",
       " 'Judges',\n",
       " '1_Samuel',\n",
       " '2_Samuel',\n",
       " '1_Kings',\n",
       " '2_Kings',\n",
       " 'Isaiah',\n",
       " 'Jeremiah',\n",
       " 'Ezekiel',\n",
       " 'Hosea',\n",
       " 'Joel',\n",
       " 'Amos',\n",
       " 'Obadiah',\n",
       " 'Jonah',\n",
       " 'Micah',\n",
       " 'Nahum',\n",
       " 'Habakkuk',\n",
       " 'Zephaniah',\n",
       " 'Haggai',\n",
       " 'Zechariah',\n",
       " 'Malachi',\n",
       " 'Psalms',\n",
       " 'Job',\n",
       " 'Proverbs',\n",
       " 'Ruth',\n",
       " 'Song_of_songs',\n",
       " 'Ecclesiastes',\n",
       " 'Lamentations',\n",
       " 'Esther',\n",
       " 'Daniel',\n",
       " 'Ezra',\n",
       " 'Nehemiah',\n",
       " '1_Chronicles',\n",
       " '2_Chronicles')"
      ]
     },
     "execution_count": 7,
     "metadata": {},
     "output_type": "execute_result"
    }
   ],
   "source": [
    "book_sets['all']"
   ]
  },
  {
   "cell_type": "code",
   "execution_count": null,
   "metadata": {},
   "outputs": [],
   "source": []
  }
 ],
 "metadata": {
  "kernelspec": {
   "display_name": "Python 3",
   "language": "python",
   "name": "python3"
  },
  "language_info": {
   "codemirror_mode": {
    "name": "ipython",
    "version": 3
   },
   "file_extension": ".py",
   "mimetype": "text/x-python",
   "name": "python",
   "nbconvert_exporter": "python",
   "pygments_lexer": "ipython3",
   "version": "3.6.3"
  }
 },
 "nbformat": 4,
 "nbformat_minor": 2
}
