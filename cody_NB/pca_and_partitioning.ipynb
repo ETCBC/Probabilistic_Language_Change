{
 "cells": [
  {
   "cell_type": "markdown",
   "metadata": {},
   "source": [
    "# Principle Component Analysis (PCA) and Partition Clusters\n",
    "\n",
    "In this NB, we treat single books as vectors in a space. Markov transitions (e.g. `Subj->Pred`) are treated as individual pairs within the vector. Each book is a column, and each kind of transition is a row. We then use PCA to decompose the multi-dimensional vector into a two dimensional space which can be plotted. \n",
    "\n",
    "A second part of this NB is applying a partitioning cluster algorithm, K-Medoids. This method is robust against outliers (cf. Levshina 2015). To determine the ideal number of clusters to request from the algorithm, we create a series of silhouette plots showing the silhouette widths for each proposed cluster.\n",
    "\n",
    "## Imports & Functions"
   ]
  },
  {
   "cell_type": "code",
   "execution_count": 1,
   "metadata": {},
   "outputs": [],
   "source": [
    "import collections, os, math\n",
    "import numpy as np\n",
    "import pandas as pd\n",
    "import matplotlib.pyplot as plt\n",
    "import matplotlib.cm as cm\n",
    "from mpl_toolkits.mplot3d import Axes3D\n",
    "from sklearn.decomposition import PCA\n",
    "from sklearn.metrics.pairwise import pairwise_distances\n",
    "from sklearn.metrics import silhouette_samples, silhouette_score\n",
    "from tf.fabric import Fabric\n",
    "\n",
    "# put k-medoid clustering function in path\n",
    "# we can also later experiment with k-means\n",
    "if __name__ == '__main__' and __package__ is None:\n",
    "    os.sys.path.append('../../kmedoids')\n",
    "    os.sys.path.append('../')\n",
    "\n",
    "import kmedoids\n",
    "from functions.bhsa import get_data, unique, lbh_books, sbh_books\n",
    "\n",
    "def make_transitions(feature_dict):\n",
    "    '''\n",
    "    Create a matrix with books as columns and transition pairs as rows.\n",
    "    The function requires a dictionary containing book keys and \n",
    "    list values that contain strings of sequential features (at clause level).\n",
    "    '''\n",
    "    \n",
    "    df_Transition_freq = dict() # Transition matrix with frequences\n",
    "    df_Transition_prob = dict() # Normalized transition matrix\n",
    "\n",
    "    # a dict to count the transition pairs per book\n",
    "    transition_pairs = collections.defaultdict(lambda: collections.Counter())\n",
    "    \n",
    "    for bookname, clauses in feature_dict.items():\n",
    "        \n",
    "        # count transitions using bigrams\n",
    "        transitions = list()\n",
    "        for clause in clauses:\n",
    "            transitions.append(\"Clause_Begin\")\n",
    "            transitions.extend(clause)\n",
    "            transitions.append(\"Clause_End\")\n",
    "            \n",
    "        for i in range(0, len(transitions)-1):\n",
    "            \n",
    "            # assemble transition pair string\n",
    "            state1 = transitions[i]\n",
    "            state2 = transitions[i+1]\n",
    "            transition_string = state1 + '->' + state2\n",
    "            \n",
    "            if transition_string == 'Clause_End->Clause_Begin': # ignore clause_begin to end transition pairs\n",
    "                continue \n",
    "            \n",
    "            transition_pairs[bookname][transition_string] += 1\n",
    "            \n",
    "        # create the dataframes\n",
    "        df_trans = pd.DataFrame(transition_pairs).fillna(0)\n",
    "        df_prop = df_trans.apply(lambda column: column.values / sum(column.values))\n",
    "        \n",
    "    return df_trans, df_prop\n",
    "\n",
    "def safe_log(number):\n",
    "    '''\n",
    "    Evaluate for zero before applying log function.\n",
    "    '''\n",
    "    if number == 0:\n",
    "        return 0\n",
    "    else:\n",
    "        return math.log(number)\n",
    "    \n",
    "def loglikelihood(k, l, m, n, log):\n",
    "    '''\n",
    "    Returns the log-likelihood when the supplied elements are given.\n",
    "    '''\n",
    "    \n",
    "    p1 = (k*log(k)) + (l*log(l)) + (m*log(m)) + (n*log(n))        \n",
    "    p2 = ((k+l)*log(k+l)) - ((k+m)*log(k+m))\n",
    "    p3 = ((l+n)*log(l+n)) - ((m+n)*log(m+n))\n",
    "    p4 = ((k+l+m+n))*log(k+l+m+n)\n",
    "    llikelihood = 2*(p1-p2-p3+p4)\n",
    "    return llikelihood\n",
    "\n",
    "def apply_loglikelihood(comatrix):\n",
    "    \n",
    "    '''\n",
    "    Adjusts values in a cooccurrence matrix using log-likelihood. \n",
    "    Requires a cooccurrence matrix.\n",
    "    '''\n",
    "    new_matrix = comatrix.copy()\n",
    "    for target in comatrix.columns:\n",
    "        for basis in comatrix.index:\n",
    "            k = comatrix[target][basis]\n",
    "            \n",
    "            if not k:\n",
    "                continue\n",
    "            \n",
    "            l = comatrix.loc[basis].sum() - k\n",
    "            m = comatrix[target].sum() - k\n",
    "            n = comatrix.values.sum() - (k+l+m)\n",
    "            ll = loglikelihood(k, l, m, n, safe_log)\n",
    "            new_matrix[target][basis] = ll\n",
    "\n",
    "    return new_matrix\n",
    "\n",
    "def plot_silhouettes(data_vectors, range_n_clusters, scatter=False, randomstate=10):\n",
    "    \n",
    "    '''    \n",
    "    Plot silhouette plots based on a supplied range of K using a supplied method.\n",
    "    Can also plot an optional scatter plot if PCA transformed vectors are supplied.\n",
    "    Code modified from http://scikit-learn.org/stable/auto_examples/cluster/plot_kmeans_silhouette_analysis.html\n",
    "    '''\n",
    "    \n",
    "    pairwise_dists = pairwise_distances(data_vectors, metric='cosine')\n",
    "    \n",
    "    for n_clusters in range_n_clusters:\n",
    "        \n",
    "        # use method to make the clusters\n",
    "        medoids, clusters = kmedoids.kMedoids(pairwise_dists, n_clusters)\n",
    "    \n",
    "        # make cluster labels with index corresponding to target word cluster\n",
    "        cluster_labels = sorted((i, group) for group in clusters # sort groups by index\n",
    "                                    for i in clusters[group])\n",
    "        cluster_labels = np.array(list(group[1] for group in cluster_labels)) # put the groups in indexed order in an array\n",
    "        \n",
    "        # Create plots\n",
    "        if not scatter:\n",
    "            fig, ax = plt.subplots(1, 1)\n",
    "            fig.set_size_inches(10, 8)\n",
    "        else:\n",
    "            fig, (ax, ax2) = plt.subplots(1,2)\n",
    "            fig.set_size_inches(18, 7)\n",
    "\n",
    "        # The silhouette_score gives the average value for all the samples.\n",
    "        # This gives a perspective into the density and separation of the formed\n",
    "        # clusters\n",
    "        silhouette_avg = silhouette_score(pairwise_dists, cluster_labels)\n",
    "        print(\"For n_clusters =\", n_clusters,\n",
    "              \"The average silhouette_score is :\", silhouette_avg)\n",
    "\n",
    "        # Compute the silhouette scores for each sample\n",
    "        sample_silhouette_values = silhouette_samples(pairwise_dists, cluster_labels)\n",
    "                \n",
    "        # Set x-axis limits\n",
    "        # The silhouette coefficient can range from -1, 1\n",
    "        # I set the lower limit a -0.2 since the min with one method is -0.13\n",
    "        ax.set_xlim([-0.2, 0.06])\n",
    "        \n",
    "        # The (n_clusters+1)*10 is for inserting blank space between silhouette\n",
    "        # plots of individual clusters, to demarcate them clearly.\n",
    "        ax.set_ylim([0, len(pairwise_dists) + (n_clusters + 1) * 10])\n",
    "        \n",
    "        y_lower = 10\n",
    "        for i in range(n_clusters):\n",
    "            # Aggregate the silhouette scores for samples belonging to\n",
    "            # cluster i, and sort them\n",
    "            ith_cluster_silhouette_values = \\\n",
    "                sample_silhouette_values[cluster_labels == i]\n",
    "\n",
    "            ith_cluster_silhouette_values.sort()\n",
    "\n",
    "            size_cluster_i = ith_cluster_silhouette_values.shape[0]\n",
    "            y_upper = y_lower + size_cluster_i\n",
    "\n",
    "            color = cm.ocean(float(i) / n_clusters)\n",
    "            ax.fill_betweenx(np.arange(y_lower, y_upper),\n",
    "                              0, ith_cluster_silhouette_values,\n",
    "                              facecolor=color, edgecolor='black', alpha=0.7)\n",
    "\n",
    "            # Label the silhouette plots with their cluster numbers at the middle\n",
    "            ax.text(-0.05, y_lower + 0.5 * size_cluster_i, str(i))\n",
    "\n",
    "            # Compute the new y_lower for next plot\n",
    "            y_lower = y_upper + 10  # 10 for the 0 samples\n",
    "\n",
    "        ax.set_title(\"The silhouette plot for the various clusters.\")\n",
    "        ax.set_xlabel(\"The silhouette coefficient values\")\n",
    "        ax.set_ylabel(\"Cluster label\")\n",
    "\n",
    "        # The vertical line for average silhouette score of all the values\n",
    "        ax.axvline(x=silhouette_avg, color=\"red\", linestyle=\"--\")\n",
    "\n",
    "        ax.set_yticks([])  # Clear the yaxis labels / ticks\n",
    "        ax.set_xticks([-0.2, 0, 0.2, 0.4, 0.6, 0.8, 1])\n",
    "        \n",
    "        # plot scatter if PCA data is given\n",
    "        if scatter:\n",
    "            colors = cm.ocean(cluster_labels.astype(float) / n_clusters)\n",
    "            ax2.scatter(data_vectors[:, 0], data_vectors[:, 1], marker='.', s=30, lw=0, alpha=0.7,\n",
    "                        c=colors, edgecolor='k')\n",
    "\n",
    "            # Labeling the clusters\n",
    "            centers = data_vectors[medoids]\n",
    "            # Draw white circles at cluster centers\n",
    "            ax2.scatter(centers[:, 0], centers[:, 1], marker='o',\n",
    "                        c=\"white\", alpha=1, s=200, edgecolor='k')\n",
    "\n",
    "            for i, c in enumerate(centers):\n",
    "                ax2.scatter(c[0], c[1], marker='$%d$' % i, alpha=1,\n",
    "                            s=50, edgecolor='k')\n",
    "\n",
    "            ax2.set_title(\"The visualization of the clustered data.\")\n",
    "            ax2.set_xlabel(\"Feature space for the 1st feature\")\n",
    "            ax2.set_ylabel(\"Feature space for the 2nd feature\")\n",
    "\n",
    "        plt.suptitle((\"Silhouette analysis for clustering on sample data \"\n",
    "                      \"with n_clusters = %d\" % n_clusters),\n",
    "                     fontsize=14, fontweight='bold')\n",
    "        \n",
    "\n",
    "        plt.show()"
   ]
  },
  {
   "cell_type": "markdown",
   "metadata": {},
   "source": [
    "## Load Biblical Hebrew Data"
   ]
  },
  {
   "cell_type": "code",
   "execution_count": 2,
   "metadata": {},
   "outputs": [
    {
     "name": "stdout",
     "output_type": "stream",
     "text": [
      "4 features ready for analysis...\n",
      "\tdict_keys(['phrase_functions', 'phrase_types', 'word_pos', 'clause_types'])\n"
     ]
    }
   ],
   "source": [
    "heb_data = get_data()\n",
    "\n",
    "print(len(heb_data), 'features ready for analysis...')\n",
    "print(f'\\t{heb_data.keys()}')"
   ]
  },
  {
   "cell_type": "markdown",
   "metadata": {},
   "source": [
    "## Create Vectors"
   ]
  },
  {
   "cell_type": "code",
   "execution_count": 3,
   "metadata": {},
   "outputs": [
    {
     "name": "stdout",
     "output_type": "stream",
     "text": [
      "phrase function books:\n"
     ]
    },
    {
     "data": {
      "text/plain": [
       "dict_keys(['Genesis', 'Exodus', 'Leviticus', 'Deuteronomy', 'Joshua', 'Judges', '1_Samuel', '2_Samuel', '1_Kings', '2_Kings', 'Esther', 'Ezra', 'Nehemiah', '1_Chronicles', '2_Chronicles'])"
      ]
     },
     "execution_count": 3,
     "metadata": {},
     "output_type": "execute_result"
    }
   ],
   "source": [
    "# remove sbh and lbh from phrase_funct data to test books independent of these large groups\n",
    "for feature in heb_data:\n",
    "    del heb_data[feature]['lbh']\n",
    "    del heb_data[feature]['sbh']\n",
    "\n",
    "print('phrase function books:')\n",
    "heb_data['phrase_functions'].keys()"
   ]
  },
  {
   "cell_type": "markdown",
   "metadata": {},
   "source": [
    "### Make & sample the vector matrices"
   ]
  },
  {
   "cell_type": "code",
   "execution_count": 4,
   "metadata": {},
   "outputs": [
    {
     "data": {
      "text/html": [
       "<div>\n",
       "<style scoped>\n",
       "    .dataframe tbody tr th:only-of-type {\n",
       "        vertical-align: middle;\n",
       "    }\n",
       "\n",
       "    .dataframe tbody tr th {\n",
       "        vertical-align: top;\n",
       "    }\n",
       "\n",
       "    .dataframe thead th {\n",
       "        text-align: right;\n",
       "    }\n",
       "</style>\n",
       "<table border=\"1\" class=\"dataframe\">\n",
       "  <thead>\n",
       "    <tr style=\"text-align: right;\">\n",
       "      <th></th>\n",
       "      <th>1_Chronicles</th>\n",
       "      <th>1_Kings</th>\n",
       "      <th>1_Samuel</th>\n",
       "      <th>2_Chronicles</th>\n",
       "      <th>2_Kings</th>\n",
       "      <th>2_Samuel</th>\n",
       "      <th>Deuteronomy</th>\n",
       "      <th>Esther</th>\n",
       "      <th>Exodus</th>\n",
       "      <th>Ezra</th>\n",
       "      <th>Genesis</th>\n",
       "      <th>Joshua</th>\n",
       "      <th>Judges</th>\n",
       "      <th>Leviticus</th>\n",
       "      <th>Nehemiah</th>\n",
       "    </tr>\n",
       "  </thead>\n",
       "  <tbody>\n",
       "    <tr>\n",
       "      <th>Adju-&gt;Adju</th>\n",
       "      <td>0.002988</td>\n",
       "      <td>0.000420</td>\n",
       "      <td>0.000309</td>\n",
       "      <td>0.001633</td>\n",
       "      <td>0.000521</td>\n",
       "      <td>0.000157</td>\n",
       "      <td>0.001039</td>\n",
       "      <td>0.000992</td>\n",
       "      <td>0.001082</td>\n",
       "      <td>0.001870</td>\n",
       "      <td>0.001168</td>\n",
       "      <td>0.000422</td>\n",
       "      <td>0.000520</td>\n",
       "      <td>0.001182</td>\n",
       "      <td>0.001395</td>\n",
       "    </tr>\n",
       "    <tr>\n",
       "      <th>Adju-&gt;Clause_End</th>\n",
       "      <td>0.025451</td>\n",
       "      <td>0.016173</td>\n",
       "      <td>0.006973</td>\n",
       "      <td>0.025753</td>\n",
       "      <td>0.012590</td>\n",
       "      <td>0.012060</td>\n",
       "      <td>0.016946</td>\n",
       "      <td>0.023471</td>\n",
       "      <td>0.019191</td>\n",
       "      <td>0.024307</td>\n",
       "      <td>0.008969</td>\n",
       "      <td>0.012245</td>\n",
       "      <td>0.008840</td>\n",
       "      <td>0.015362</td>\n",
       "      <td>0.019733</td>\n",
       "    </tr>\n",
       "    <tr>\n",
       "      <th>Adju-&gt;Cmpl</th>\n",
       "      <td>0.002782</td>\n",
       "      <td>0.001400</td>\n",
       "      <td>0.001172</td>\n",
       "      <td>0.003043</td>\n",
       "      <td>0.001266</td>\n",
       "      <td>0.001175</td>\n",
       "      <td>0.001428</td>\n",
       "      <td>0.002645</td>\n",
       "      <td>0.001310</td>\n",
       "      <td>0.002493</td>\n",
       "      <td>0.000834</td>\n",
       "      <td>0.001267</td>\n",
       "      <td>0.002080</td>\n",
       "      <td>0.002363</td>\n",
       "      <td>0.000997</td>\n",
       "    </tr>\n",
       "    <tr>\n",
       "      <th>Adju-&gt;Frnt</th>\n",
       "      <td>0.000000</td>\n",
       "      <td>0.000000</td>\n",
       "      <td>0.000000</td>\n",
       "      <td>0.000000</td>\n",
       "      <td>0.000000</td>\n",
       "      <td>0.000000</td>\n",
       "      <td>0.000000</td>\n",
       "      <td>0.000000</td>\n",
       "      <td>0.000000</td>\n",
       "      <td>0.000312</td>\n",
       "      <td>0.000000</td>\n",
       "      <td>0.000000</td>\n",
       "      <td>0.000000</td>\n",
       "      <td>0.000000</td>\n",
       "      <td>0.000000</td>\n",
       "    </tr>\n",
       "    <tr>\n",
       "      <th>Adju-&gt;Loca</th>\n",
       "      <td>0.000206</td>\n",
       "      <td>0.000490</td>\n",
       "      <td>0.000000</td>\n",
       "      <td>0.000816</td>\n",
       "      <td>0.000372</td>\n",
       "      <td>0.000157</td>\n",
       "      <td>0.000584</td>\n",
       "      <td>0.000331</td>\n",
       "      <td>0.000626</td>\n",
       "      <td>0.000623</td>\n",
       "      <td>0.000209</td>\n",
       "      <td>0.000633</td>\n",
       "      <td>0.000347</td>\n",
       "      <td>0.000315</td>\n",
       "      <td>0.000000</td>\n",
       "    </tr>\n",
       "  </tbody>\n",
       "</table>\n",
       "</div>"
      ],
      "text/plain": [
       "                  1_Chronicles   1_Kings  1_Samuel  2_Chronicles   2_Kings  \\\n",
       "Adju->Adju            0.002988  0.000420  0.000309      0.001633  0.000521   \n",
       "Adju->Clause_End      0.025451  0.016173  0.006973      0.025753  0.012590   \n",
       "Adju->Cmpl            0.002782  0.001400  0.001172      0.003043  0.001266   \n",
       "Adju->Frnt            0.000000  0.000000  0.000000      0.000000  0.000000   \n",
       "Adju->Loca            0.000206  0.000490  0.000000      0.000816  0.000372   \n",
       "\n",
       "                  2_Samuel  Deuteronomy    Esther    Exodus      Ezra  \\\n",
       "Adju->Adju        0.000157     0.001039  0.000992  0.001082  0.001870   \n",
       "Adju->Clause_End  0.012060     0.016946  0.023471  0.019191  0.024307   \n",
       "Adju->Cmpl        0.001175     0.001428  0.002645  0.001310  0.002493   \n",
       "Adju->Frnt        0.000000     0.000000  0.000000  0.000000  0.000312   \n",
       "Adju->Loca        0.000157     0.000584  0.000331  0.000626  0.000623   \n",
       "\n",
       "                   Genesis    Joshua    Judges  Leviticus  Nehemiah  \n",
       "Adju->Adju        0.001168  0.000422  0.000520   0.001182  0.001395  \n",
       "Adju->Clause_End  0.008969  0.012245  0.008840   0.015362  0.019733  \n",
       "Adju->Cmpl        0.000834  0.001267  0.002080   0.002363  0.000997  \n",
       "Adju->Frnt        0.000000  0.000000  0.000000   0.000000  0.000000  \n",
       "Adju->Loca        0.000209  0.000633  0.000347   0.000315  0.000000  "
      ]
     },
     "execution_count": 4,
     "metadata": {},
     "output_type": "execute_result"
    }
   ],
   "source": [
    "pf_trans_count, pf_trans_prop = make_transitions(heb_data['phrase_functions']) # phrase function matrices\n",
    "pt_trans_count, pt_trans_prop = make_transitions(heb_data['phrase_types']) # phrase type matrices\n",
    "pos_trans_count, pos_trans_prop = make_transitions(heb_data['word_pos']) # word pos matrices\n",
    "ct_trans_count, ct_trans_prop = make_transitions(heb_data['clause_types']) # word pos matrices\n",
    "\n",
    "features_prop = pf_trans_prop.append(pt_trans_prop).append(pos_trans_prop).append(ct_trans_prop)\n",
    "# features_prop = .append(pt_trans_prop)\n",
    "# features_prop.append(pos_trans_prop)\n",
    "# features_prop.append(ct_trans_prop)\n",
    "\n",
    "\n",
    "features_prop.head(5) # sample proportion matrix"
   ]
  },
  {
   "cell_type": "code",
   "execution_count": 5,
   "metadata": {},
   "outputs": [
    {
     "data": {
      "text/html": [
       "<div>\n",
       "<style scoped>\n",
       "    .dataframe tbody tr th:only-of-type {\n",
       "        vertical-align: middle;\n",
       "    }\n",
       "\n",
       "    .dataframe tbody tr th {\n",
       "        vertical-align: top;\n",
       "    }\n",
       "\n",
       "    .dataframe thead th {\n",
       "        text-align: right;\n",
       "    }\n",
       "</style>\n",
       "<table border=\"1\" class=\"dataframe\">\n",
       "  <thead>\n",
       "    <tr style=\"text-align: right;\">\n",
       "      <th></th>\n",
       "      <th>1_Chronicles</th>\n",
       "      <th>1_Kings</th>\n",
       "      <th>1_Samuel</th>\n",
       "      <th>2_Chronicles</th>\n",
       "      <th>2_Kings</th>\n",
       "      <th>2_Samuel</th>\n",
       "      <th>Deuteronomy</th>\n",
       "      <th>Esther</th>\n",
       "      <th>Exodus</th>\n",
       "      <th>Ezra</th>\n",
       "      <th>Genesis</th>\n",
       "      <th>Joshua</th>\n",
       "      <th>Judges</th>\n",
       "      <th>Leviticus</th>\n",
       "      <th>Nehemiah</th>\n",
       "    </tr>\n",
       "  </thead>\n",
       "  <tbody>\n",
       "    <tr>\n",
       "      <th>xYqX-&gt;ZYq0</th>\n",
       "      <td>0.000000</td>\n",
       "      <td>0.000000</td>\n",
       "      <td>0.000000</td>\n",
       "      <td>0.000298</td>\n",
       "      <td>0.000000</td>\n",
       "      <td>0.000312</td>\n",
       "      <td>0.000000</td>\n",
       "      <td>0.000000</td>\n",
       "      <td>0.000229</td>\n",
       "      <td>0.000000</td>\n",
       "      <td>0.000000</td>\n",
       "      <td>0.000425</td>\n",
       "      <td>0.000697</td>\n",
       "      <td>0.000000</td>\n",
       "      <td>0.000000</td>\n",
       "    </tr>\n",
       "    <tr>\n",
       "      <th>xYqX-&gt;xQt0</th>\n",
       "      <td>0.000393</td>\n",
       "      <td>0.000552</td>\n",
       "      <td>0.000495</td>\n",
       "      <td>0.000596</td>\n",
       "      <td>0.000584</td>\n",
       "      <td>0.001558</td>\n",
       "      <td>0.002825</td>\n",
       "      <td>0.001344</td>\n",
       "      <td>0.000917</td>\n",
       "      <td>0.001199</td>\n",
       "      <td>0.000662</td>\n",
       "      <td>0.001276</td>\n",
       "      <td>0.000000</td>\n",
       "      <td>0.001289</td>\n",
       "      <td>0.001533</td>\n",
       "    </tr>\n",
       "    <tr>\n",
       "      <th>xYqX-&gt;xQtX</th>\n",
       "      <td>0.000000</td>\n",
       "      <td>0.000828</td>\n",
       "      <td>0.001484</td>\n",
       "      <td>0.000000</td>\n",
       "      <td>0.000292</td>\n",
       "      <td>0.000000</td>\n",
       "      <td>0.000257</td>\n",
       "      <td>0.000000</td>\n",
       "      <td>0.000229</td>\n",
       "      <td>0.000000</td>\n",
       "      <td>0.000166</td>\n",
       "      <td>0.000425</td>\n",
       "      <td>0.000349</td>\n",
       "      <td>0.000000</td>\n",
       "      <td>0.000000</td>\n",
       "    </tr>\n",
       "    <tr>\n",
       "      <th>xYqX-&gt;xYq0</th>\n",
       "      <td>0.000786</td>\n",
       "      <td>0.000552</td>\n",
       "      <td>0.000742</td>\n",
       "      <td>0.000596</td>\n",
       "      <td>0.000876</td>\n",
       "      <td>0.000312</td>\n",
       "      <td>0.005907</td>\n",
       "      <td>0.000000</td>\n",
       "      <td>0.002979</td>\n",
       "      <td>0.001199</td>\n",
       "      <td>0.000662</td>\n",
       "      <td>0.000000</td>\n",
       "      <td>0.000000</td>\n",
       "      <td>0.001611</td>\n",
       "      <td>0.002299</td>\n",
       "    </tr>\n",
       "    <tr>\n",
       "      <th>xYqX-&gt;xYqX</th>\n",
       "      <td>0.000000</td>\n",
       "      <td>0.000828</td>\n",
       "      <td>0.000742</td>\n",
       "      <td>0.000298</td>\n",
       "      <td>0.000000</td>\n",
       "      <td>0.001558</td>\n",
       "      <td>0.004622</td>\n",
       "      <td>0.000000</td>\n",
       "      <td>0.000000</td>\n",
       "      <td>0.000000</td>\n",
       "      <td>0.000497</td>\n",
       "      <td>0.000850</td>\n",
       "      <td>0.000349</td>\n",
       "      <td>0.000966</td>\n",
       "      <td>0.000000</td>\n",
       "    </tr>\n",
       "  </tbody>\n",
       "</table>\n",
       "</div>"
      ],
      "text/plain": [
       "            1_Chronicles   1_Kings  1_Samuel  2_Chronicles   2_Kings  \\\n",
       "xYqX->ZYq0      0.000000  0.000000  0.000000      0.000298  0.000000   \n",
       "xYqX->xQt0      0.000393  0.000552  0.000495      0.000596  0.000584   \n",
       "xYqX->xQtX      0.000000  0.000828  0.001484      0.000000  0.000292   \n",
       "xYqX->xYq0      0.000786  0.000552  0.000742      0.000596  0.000876   \n",
       "xYqX->xYqX      0.000000  0.000828  0.000742      0.000298  0.000000   \n",
       "\n",
       "            2_Samuel  Deuteronomy    Esther    Exodus      Ezra   Genesis  \\\n",
       "xYqX->ZYq0  0.000312     0.000000  0.000000  0.000229  0.000000  0.000000   \n",
       "xYqX->xQt0  0.001558     0.002825  0.001344  0.000917  0.001199  0.000662   \n",
       "xYqX->xQtX  0.000000     0.000257  0.000000  0.000229  0.000000  0.000166   \n",
       "xYqX->xYq0  0.000312     0.005907  0.000000  0.002979  0.001199  0.000662   \n",
       "xYqX->xYqX  0.001558     0.004622  0.000000  0.000000  0.000000  0.000497   \n",
       "\n",
       "              Joshua    Judges  Leviticus  Nehemiah  \n",
       "xYqX->ZYq0  0.000425  0.000697   0.000000  0.000000  \n",
       "xYqX->xQt0  0.001276  0.000000   0.001289  0.001533  \n",
       "xYqX->xQtX  0.000425  0.000349   0.000000  0.000000  \n",
       "xYqX->xYq0  0.000000  0.000000   0.001611  0.002299  \n",
       "xYqX->xYqX  0.000850  0.000349   0.000966  0.000000  "
      ]
     },
     "execution_count": 5,
     "metadata": {},
     "output_type": "execute_result"
    }
   ],
   "source": [
    "features_prop.tail(5) # sample proportion matrix"
   ]
  },
  {
   "cell_type": "code",
   "execution_count": 6,
   "metadata": {},
   "outputs": [
    {
     "data": {
      "text/plain": [
       "(1854, 15)"
      ]
     },
     "execution_count": 6,
     "metadata": {},
     "output_type": "execute_result"
    }
   ],
   "source": [
    "features_prop.shape"
   ]
  },
  {
   "cell_type": "code",
   "execution_count": 7,
   "metadata": {},
   "outputs": [
    {
     "data": {
      "text/plain": [
       "3.9999999999999996"
      ]
     },
     "execution_count": 7,
     "metadata": {},
     "output_type": "execute_result"
    }
   ],
   "source": [
    "# sanity check for proportions, should equal ~4\n",
    "features_prop['1_Chronicles'].sum()"
   ]
  },
  {
   "cell_type": "code",
   "execution_count": 8,
   "metadata": {},
   "outputs": [
    {
     "data": {
      "text/plain": [
       "NmCl->NmCl            0.226897\n",
       "Clause_Begin->CP      0.158578\n",
       "Clause_Begin->Conj    0.146007\n",
       "PP->Clause_End        0.108398\n",
       "Clause_Begin->conj    0.084357\n",
       "CP->VP                0.076043\n",
       "PreC->Clause_End      0.069037\n",
       "NP->Clause_End        0.068830\n",
       "subs->Clause_End      0.066268\n",
       "VP->PP                0.065945\n",
       "Name: 1_Chronicles, dtype: float64"
      ]
     },
     "execution_count": 8,
     "metadata": {},
     "output_type": "execute_result"
    }
   ],
   "source": [
    "# sample test, top values for Chronicles\n",
    "features_prop['1_Chronicles'].sort_values(ascending=False).head(10)"
   ]
  },
  {
   "cell_type": "code",
   "execution_count": 9,
   "metadata": {},
   "outputs": [
    {
     "data": {
      "text/plain": [
       "Clause_Begin->CP      0.172093\n",
       "Clause_Begin->Conj    0.146048\n",
       "PP->Clause_End        0.124624\n",
       "CP->VP                0.119653\n",
       "Clause_Begin->conj    0.108055\n",
       "Conj->Pred            0.092278\n",
       "VP->PP                0.088077\n",
       "conj->verb            0.076150\n",
       "Cmpl->Clause_End      0.071624\n",
       "subs->Clause_End      0.069598\n",
       "Name: 1_Kings, dtype: float64"
      ]
     },
     "execution_count": 9,
     "metadata": {},
     "output_type": "execute_result"
    }
   ],
   "source": [
    "features_prop['1_Kings'].sort_values(ascending=False).head(10)"
   ]
  },
  {
   "cell_type": "markdown",
   "metadata": {},
   "source": [
    "## PCA (2D) and Plot Analyses"
   ]
  },
  {
   "cell_type": "code",
   "execution_count": 10,
   "metadata": {},
   "outputs": [],
   "source": [
    "pca = PCA(n_components=2)"
   ]
  },
  {
   "cell_type": "markdown",
   "metadata": {},
   "source": [
    "### Test with Proportions, no adjustments"
   ]
  },
  {
   "cell_type": "code",
   "execution_count": 11,
   "metadata": {},
   "outputs": [
    {
     "data": {
      "image/png": "[encoded data removed]",
      "text/plain": [
       "<Figure size 1080x720 with 1 Axes>"
      ]
     },
     "metadata": {},
     "output_type": "display_data"
    }
   ],
   "source": [
    "pca_prop = pca.fit_transform(features_prop.T.values) # PCA happens here\n",
    "\n",
    "# create a scatter plot of the projection\n",
    "plt.figure(1, figsize=(15, 10))\n",
    "plt.scatter(pca_prop[:, 0], pca_prop[:, 1])\n",
    "\n",
    "# annotate\n",
    "books = features_prop.columns\n",
    "for i, book in enumerate(books):\n",
    "    plt.annotate(book, xy=(pca_prop[i, 0], pca_prop[i, 1]), fontsize=14)"
   ]
  },
  {
   "cell_type": "code",
   "execution_count": 12,
   "metadata": {},
   "outputs": [
    {
     "ename": "NameError",
     "evalue": "name 'trans_prop' is not defined",
     "output_type": "error",
     "traceback": [
      "\u001b[0;31m---------------------------------------------------------------------------\u001b[0m",
      "\u001b[0;31mNameError\u001b[0m                                 Traceback (most recent call last)",
      "\u001b[0;32m<ipython-input-12-728d8180c0b4>\u001b[0m in \u001b[0;36m<module>\u001b[0;34m()\u001b[0m\n\u001b[0;32m----> 1\u001b[0;31m \u001b[0mpca_prop\u001b[0m \u001b[0;34m=\u001b[0m \u001b[0mpca\u001b[0m\u001b[0;34m.\u001b[0m\u001b[0mfit_transform\u001b[0m\u001b[0;34m(\u001b[0m\u001b[0mtrans_prop\u001b[0m\u001b[0;34m.\u001b[0m\u001b[0mT\u001b[0m\u001b[0;34m.\u001b[0m\u001b[0mvalues\u001b[0m\u001b[0;34m)\u001b[0m \u001b[0;31m# PCA happens here\u001b[0m\u001b[0;34m\u001b[0m\u001b[0m\n\u001b[0m\u001b[1;32m      2\u001b[0m \u001b[0;34m\u001b[0m\u001b[0m\n\u001b[1;32m      3\u001b[0m \u001b[0;31m# create a scatter plot of the projection\u001b[0m\u001b[0;34m\u001b[0m\u001b[0;34m\u001b[0m\u001b[0m\n\u001b[1;32m      4\u001b[0m \u001b[0mplt\u001b[0m\u001b[0;34m.\u001b[0m\u001b[0mfigure\u001b[0m\u001b[0;34m(\u001b[0m\u001b[0;36m1\u001b[0m\u001b[0;34m,\u001b[0m \u001b[0mfigsize\u001b[0m\u001b[0;34m=\u001b[0m\u001b[0;34m(\u001b[0m\u001b[0;36m15\u001b[0m\u001b[0;34m,\u001b[0m \u001b[0;36m10\u001b[0m\u001b[0;34m)\u001b[0m\u001b[0;34m)\u001b[0m\u001b[0;34m\u001b[0m\u001b[0m\n\u001b[1;32m      5\u001b[0m \u001b[0mplt\u001b[0m\u001b[0;34m.\u001b[0m\u001b[0mscatter\u001b[0m\u001b[0;34m(\u001b[0m\u001b[0mpca_prop\u001b[0m\u001b[0;34m[\u001b[0m\u001b[0;34m:\u001b[0m\u001b[0;34m,\u001b[0m \u001b[0;36m0\u001b[0m\u001b[0;34m]\u001b[0m\u001b[0;34m,\u001b[0m \u001b[0mpca_prop\u001b[0m\u001b[0;34m[\u001b[0m\u001b[0;34m:\u001b[0m\u001b[0;34m,\u001b[0m \u001b[0;36m1\u001b[0m\u001b[0;34m]\u001b[0m\u001b[0;34m)\u001b[0m\u001b[0;34m\u001b[0m\u001b[0m\n",
      "\u001b[0;31mNameError\u001b[0m: name 'trans_prop' is not defined"
     ]
    }
   ],
   "source": [
    "pca_prop = pca.fit_transform(trans_prop.T.values) # PCA happens here\n",
    "\n",
    "# create a scatter plot of the projection\n",
    "plt.figure(1, figsize=(15, 10))\n",
    "plt.scatter(pca_prop[:, 0], pca_prop[:, 1])\n",
    "\n",
    "# annotate\n",
    "books = test_ll.columns\n",
    "for i, book in enumerate(books):\n",
    "    plt.annotate(book, xy=(pca_prop[i, 0], pca_prop[i, 1]), fontsize=14)"
   ]
  },
  {
   "cell_type": "markdown",
   "metadata": {},
   "source": [
    "## PCA (3D) proportions, no adjustments"
   ]
  },
  {
   "cell_type": "code",
   "execution_count": 13,
   "metadata": {},
   "outputs": [],
   "source": [
    "pca = PCA(n_components=3)"
   ]
  },
  {
   "cell_type": "code",
   "execution_count": 14,
   "metadata": {},
   "outputs": [
    {
     "data": {
      "text/plain": [
       "<mpl_toolkits.mplot3d.art3d.Path3DCollection at 0x19240e278>"
      ]
     },
     "execution_count": 14,
     "metadata": {},
     "output_type": "execute_result"
    },
    {
     "data": {
      "image/png": "[encoded data removed]",
      "text/plain": [
       "<Figure size 720x720 with 1 Axes>"
      ]
     },
     "metadata": {},
     "output_type": "display_data"
    }
   ],
   "source": [
    "pca_prop = pca.fit_transform(features_prop.T.values) # PCA happens here\n",
    "\n",
    "fig = plt.figure(figsize=(10, 10))\n",
    "ax = plt.axes(projection='3d')\n",
    "\n",
    "ax.scatter(pca_prop[:,0], pca_prop[:,1], pca_prop[:,2])\n",
    "\n",
    "# # annotate\n",
    "# books = features_prop.columns\n",
    "# for i, book in enumerate(books):\n",
    "#     ax.annotate(book, xy=(pca_prop[i, 0], pca_prop[i, 1], pca_prop[i, 2]), fontsize=14)"
   ]
  },
  {
   "cell_type": "code",
   "execution_count": 15,
   "metadata": {},
   "outputs": [
    {
     "data": {
      "text/plain": [
       "array([-0.0532402 , -0.01455642, -0.03815887, -0.00775563, -0.04440087,\n",
       "       -0.03596367,  0.08756147,  0.03411859,  0.04098342,  0.0241119 ,\n",
       "       -0.03921995, -0.01450795, -0.05329917,  0.10254646,  0.01178089])"
      ]
     },
     "execution_count": 15,
     "metadata": {},
     "output_type": "execute_result"
    }
   ],
   "source": [
    "pca_prop[:,1]"
   ]
  },
  {
   "cell_type": "code",
   "execution_count": 16,
   "metadata": {},
   "outputs": [
    {
     "data": {
      "text/plain": [
       "array([-0.03056408,  0.00172409, -0.01745497,  0.03004514,  0.00144202,\n",
       "       -0.00282361, -0.01477665,  0.06510172, -0.02148684,  0.01505779,\n",
       "       -0.01943993, -0.00604409, -0.00593804, -0.04087296,  0.04603041])"
      ]
     },
     "execution_count": 16,
     "metadata": {},
     "output_type": "execute_result"
    }
   ],
   "source": [
    "pca_prop[:,2]"
   ]
  },
  {
   "cell_type": "markdown",
   "metadata": {},
   "source": [
    "## Partitioning with K-Medoid"
   ]
  },
  {
   "cell_type": "code",
   "execution_count": 34,
   "metadata": {},
   "outputs": [],
   "source": [
    "dists = pairwise_distances(pca_prop, metric='cosine')\n",
    "\n",
    "#plot_silhouettes(pca_prop, list(range(2,11)), randomstate=2, scatter=True)"
   ]
  },
  {
   "cell_type": "code",
   "execution_count": 32,
   "metadata": {},
   "outputs": [
    {
     "name": "stdout",
     "output_type": "stream",
     "text": [
      "0\n",
      "1_Chronicles | Deuteronomy | Esther | Exodus | Ezra | Leviticus | Nehemiah | \n",
      "\n",
      "1\n",
      "1_Kings | 1_Samuel | 2_Chronicles | 2_Kings | 2_Samuel | Genesis | Joshua | Judges | \n",
      "\n"
     ]
    }
   ],
   "source": [
    "ll_medoids, ll_clust = kmedoids.kMedoids(dists, 2, state=2)\n",
    "\n",
    "# show clusters and the books contained in them\n",
    "for group, ids in ll_clust.items():\n",
    "    \n",
    "    print(group)\n",
    "    \n",
    "    for i in ids:\n",
    "        b = features_prop.columns[i]\n",
    "        print(b, end=' | ')\n",
    "    print()\n",
    "    print()"
   ]
  },
  {
   "cell_type": "code",
   "execution_count": null,
   "metadata": {},
   "outputs": [],
   "source": []
  }
 ],
 "metadata": {
  "kernelspec": {
   "display_name": "Python 3",
   "language": "python",
   "name": "python3"
  },
  "language_info": {
   "codemirror_mode": {
    "name": "ipython",
    "version": 3
   },
   "file_extension": ".py",
   "mimetype": "text/x-python",
   "name": "python",
   "nbconvert_exporter": "python",
   "pygments_lexer": "ipython3",
   "version": "3.6.3"
  }
 },
 "nbformat": 4,
 "nbformat_minor": 2
}
