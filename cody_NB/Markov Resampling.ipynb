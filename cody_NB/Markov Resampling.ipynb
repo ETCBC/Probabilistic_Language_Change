{
 "cells": [
  {
   "cell_type": "markdown",
   "metadata": {},
   "source": [
    "# Markov Resampling\n",
    "\n",
    ">  Instead of splitting it in two parts, you select 1000 clauses WITH REPLACEMENT from each book. And you do not do that once, but 1000 times or so. Then you start working with 1000 samples of 1000 clauses for each book. Each of these books consists of a more representative probability distribution than when you split it in two. The main advantage is that all the samples have equal size.\n",
    "\n",
    "> Also, make a visualization of the mean of the outcome after each sample of 1000 clauses. Eg, for Esther, you show the mean after the first sample, then the mean after two samples, then the mean after three samples, up to 1000 samples. The mean may fluctuate a bit in the beginning, but it should converge to a certain value after a number of samples, which is necessary.\n",
    "You do that in 1 plot."
   ]
  },
  {
   "cell_type": "code",
   "execution_count": null,
   "metadata": {
    "collapsed": true
   },
   "outputs": [],
   "source": []
  }
 ],
 "metadata": {
  "kernelspec": {
   "display_name": "Python 3",
   "language": "python",
   "name": "python3"
  },
  "language_info": {
   "codemirror_mode": {
    "name": "ipython",
    "version": 3
   },
   "file_extension": ".py",
   "mimetype": "text/x-python",
   "name": "python",
   "nbconvert_exporter": "python",
   "pygments_lexer": "ipython3",
   "version": "3.6.3"
  }
 },
 "nbformat": 4,
 "nbformat_minor": 2
}
