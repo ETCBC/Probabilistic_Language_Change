{
 "cells": [
  {
   "cell_type": "markdown",
   "metadata": {},
   "source": [
    "# Data analysis"
   ]
  },
  {
   "cell_type": "markdown",
   "metadata": {},
   "source": [
    "Import important libraries"
   ]
  },
  {
   "cell_type": "code",
   "execution_count": 30,
   "metadata": {
    "collapsed": true
   },
   "outputs": [],
   "source": [
    "import collections\n",
    "import numpy as np\n",
    "import pandas as pd\n",
    "import matplotlib.pyplot as plt\n",
    "from scipy import stats\n",
    "import operator\n"
   ]
  },
  {
   "cell_type": "markdown",
   "metadata": {},
   "source": [
    "First, we create a list where all functions are stored.\n"
   ]
  },
  {
   "cell_type": "code",
   "execution_count": 39,
   "metadata": {
    "collapsed": true
   },
   "outputs": [],
   "source": [
    "bookFunctions = []\n",
    "with open('phrase_functions_EBH.txt') as inputfile:\n",
    "    for line in inputfile:\n",
    "        bookFunctions.append(line.strip().split(' '))"
   ]
  },
  {
   "cell_type": "markdown",
   "metadata": {},
   "source": [
    "Now, we can extract the unique function names. This is done in a set because a set does not contain dupliates. Hereafter, we sort these function names and put it in a list for a pandas df."
   ]
  },
  {
   "cell_type": "code",
   "execution_count": 40,
   "metadata": {},
   "outputs": [],
   "source": [
    "setFunctions = set()\n",
    "for item in bookFunctions:\n",
    "    for abstract in item:\n",
    "        setFunctions.add(abstract)\n",
    "\n",
    "uniqueFunctions = sorted(list(setFunctions))\n"
   ]
  },
  {
   "cell_type": "markdown",
   "metadata": {},
   "source": [
    "To create a pandas dataframe, we need to know in which clause which functionname occurs. Therefore, each row represents a claus and a number in a column represents the occurence of a function in a clause."
   ]
  },
  {
   "cell_type": "code",
   "execution_count": 45,
   "metadata": {},
   "outputs": [],
   "source": [
    "zeromatrix= np.zeros((len(bookFunctions), len(uniqueFunctions)))\n",
    "\n",
    "for row,item in enumerate(bookFunctions):\n",
    "    for functionName in item:\n",
    "        column = uniqueFunctions.index(functionName)\n",
    "        zeromatrix[row][column]+=1\n",
    "        \n",
    "df = pd.DataFrame(zeromatrix, columns = uniqueFunctions)\n",
    "df.index.name = \"Clause\"\n"
   ]
  },
  {
   "cell_type": "markdown",
   "metadata": {},
   "source": [
    "If you want to see the datafile, type df in the above cell."
   ]
  },
  {
   "cell_type": "markdown",
   "metadata": {},
   "source": [
    "# Frequency of functions in the clauses"
   ]
  },
  {
   "cell_type": "markdown",
   "metadata": {},
   "source": [
    "Here, I look at the top 10 most frequent functions in the clauses"
   ]
  },
  {
   "cell_type": "code",
   "execution_count": 65,
   "metadata": {},
   "outputs": [
    {
     "data": {
      "text/plain": [
       "[('Pred', 4147.0),\n",
       " ('Conj', 4052.0),\n",
       " ('Subj', 2243.0),\n",
       " ('Cmpl', 1977.0),\n",
       " ('Objc', 1601.0),\n",
       " ('PreC', 788.0),\n",
       " ('Adju', 355.0),\n",
       " ('Rela', 295.0),\n",
       " ('Loca', 250.0),\n",
       " ('Time', 236.0)]"
      ]
     },
     "execution_count": 65,
     "metadata": {},
     "output_type": "execute_result"
    }
   ],
   "source": [
    "frequencyFunction = df.sum(0).to_dict()\n",
    "sorted(frequencyFunction.items(), key=operator.itemgetter(1), reverse=True)[:10]"
   ]
  },
  {
   "cell_type": "code",
   "execution_count": null,
   "metadata": {
    "collapsed": true
   },
   "outputs": [],
   "source": []
  },
  {
   "cell_type": "code",
   "execution_count": 66,
   "metadata": {},
   "outputs": [
    {
     "data": {
      "text/plain": [
       "[('Pred', 0.78930338789493715),\n",
       " ('Conj', 0.77122192615150365),\n",
       " ('Subj', 0.42691282832127903),\n",
       " ('Cmpl', 0.37628473543966501),\n",
       " ('Objc', 0.30472021317091741),\n",
       " ('PreC', 0.14998096688237533),\n",
       " ('Adju', 0.067567567567567571),\n",
       " ('Rela', 0.056147696992767414),\n",
       " ('Loca', 0.047582794061667301),\n",
       " ('Time', 0.044918157594213935)]"
      ]
     },
     "execution_count": 66,
     "metadata": {},
     "output_type": "execute_result"
    }
   ],
   "source": [
    "relativeFrequency = frequencyFunction\n",
    "for key, value in frequencyFunction.items():\n",
    "    relativeFrequency[key] = value / len(df)\n",
    "sorted(relativeFrequency.items(), key=operator.itemgetter(1), reverse=True)[:10]"
   ]
  },
  {
   "cell_type": "code",
   "execution_count": null,
   "metadata": {
    "collapsed": true
   },
   "outputs": [],
   "source": []
  }
 ],
 "metadata": {
  "kernelspec": {
   "display_name": "Python 3",
   "language": "python",
   "name": "python3"
  },
  "language_info": {
   "codemirror_mode": {
    "name": "ipython",
    "version": 3
   },
   "file_extension": ".py",
   "mimetype": "text/x-python",
   "name": "python",
   "nbconvert_exporter": "python",
   "pygments_lexer": "ipython3",
   "version": "3.6.1"
  }
 },
 "nbformat": 4,
 "nbformat_minor": 2
}
