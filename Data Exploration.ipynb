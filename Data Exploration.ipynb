{
 "cells": [
  {
   "cell_type": "markdown",
   "metadata": {},
   "source": [
    "# Various Searches to Explore and Describe the ETCBC Data"
   ]
  },
  {
   "cell_type": "code",
   "execution_count": 10,
   "metadata": {},
   "outputs": [
    {
     "name": "stdout",
     "output_type": "stream",
     "text": [
      "  0.00s loading features ...\n",
      "   |     0.02s B otype                from /Users/cody/github/etcbc/bhsa/tf/c\n",
      "   |     0.01s B book                 from /Users/cody/github/etcbc/bhsa/tf/c\n",
      "   |     0.00s B chapter              from /Users/cody/github/etcbc/bhsa/tf/c\n",
      "   |     0.01s B verse                from /Users/cody/github/etcbc/bhsa/tf/c\n",
      "   |     0.06s B function             from /Users/cody/github/etcbc/bhsa/tf/c\n",
      "   |     0.01s B domain               from /Users/cody/github/etcbc/bhsa/tf/c\n",
      "   |     0.21s T txt                  from /Users/cody/github/etcbc/bhsa/tf/c\n",
      "   |     0.18s B typ                  from /Users/cody/github/etcbc/bhsa/tf/c\n",
      "   |     0.10s B pdp                  from /Users/cody/github/etcbc/bhsa/tf/c\n",
      "   |     0.03s B kind                 from /Users/cody/github/etcbc/bhsa/tf/c\n",
      "   |     0.00s Feature overview: 109 for nodes; 5 for edges; 1 configs; 7 computed\n",
      "  4.48s All features loaded/computed - for details use loadLog()\n"
     ]
    }
   ],
   "source": [
    "import glob, re, getpass, collections, operator, scipy.stats, sklearn.metrics\n",
    "from itertools import chain\n",
    "from pprint import pprint\n",
    "import pandas as pd\n",
    "import numpy as np\n",
    "import matplotlib.pyplot as plt\n",
    "from discreteMarkovChain import markovChain\n",
    "from tf.fabric import Fabric\n",
    "\n",
    "# format paths for Etienne or Cody\n",
    "if getpass.getuser() == 'etien':\n",
    "    locations = 'C:/Users/etien/Documents/github/bhsa/tf'\n",
    "elif getpass.getuser() == 'cody':\n",
    "    locations = '~/github/etcbc/bhsa/tf'\n",
    "\n",
    "# load TF and BHSA data\n",
    "TF = Fabric(locations=locations, modules='c', silent=True)\n",
    "api = TF.load('''\n",
    "              otype\n",
    "              book chapter verse\n",
    "              function domain txt\n",
    "              typ pdp kind\n",
    "              ''')\n",
    "api.makeAvailableIn(globals()) # globalize TF methods"
   ]
  },
  {
   "cell_type": "markdown",
   "metadata": {},
   "source": [
    "## Discourse Particles "
   ]
  },
  {
   "cell_type": "code",
   "execution_count": 12,
   "metadata": {},
   "outputs": [
    {
     "name": "stdout",
     "output_type": "stream",
     "text": [
      "  0.00s Counting results per 100 up to 1000 ...\n",
      "  0.00s Done: 5 results\n"
     ]
    }
   ],
   "source": [
    "# book lists:\n",
    "lbh_books = {'1_Chronicles', '2_Chronicles', \n",
    "             'Ezra', 'Esther', 'Nehemiah'}\n",
    "\n",
    "sbh_books = {'Genesis', 'Exodus','Leviticus', \n",
    "             'Deuteronomy','Joshua', 'Judges', \n",
    "             '1_Kings', '2_Kings', '1_Samuel',\n",
    "             '2_Samuel'}\n",
    "\n",
    "# don't load clauses with these functions\n",
    "exclude_functions = {'IntS', 'Ques', 'Exst', 'ModS',\n",
    "                     'NCoS', 'NCop', 'Supp', 'PrAd',\n",
    "                     'Frnt', 'Intj', 'EPPr', \"ExsS\", \n",
    "                     \"PrcS\", \"Voct\"}\n",
    "\n",
    "query = '''\n",
    "\n",
    "book book={}\n",
    "    clause domain=N\n",
    "        phrase function=Ques\n",
    "'''.format('|'.join(lbh_books|sbh_books))\n",
    "\n",
    "S.study(query, silent=True)\n",
    "\n",
    "S.count()\n",
    "\n",
    "questions = list(S.fetch())"
   ]
  },
  {
   "cell_type": "code",
   "execution_count": 13,
   "metadata": {},
   "outputs": [
    {
     "name": "stdout",
     "output_type": "stream",
     "text": [
      "('Genesis', 24, 21)\n",
      "N\n",
      "?N\n",
      "הַֽהִצְלִ֧יחַ יְהוָ֛ה דַּרְכֹּ֖ו \n",
      "וְהָאִ֥ישׁ מִשְׁתָּאֵ֖ה לָ֑הּ מַחֲרִ֕ישׁ לָדַ֗עַת הַֽהִצְלִ֧יחַ יְהוָ֛ה דַּרְכֹּ֖ו אִם־לֹֽא׃ \n",
      "\n",
      "('Genesis', 8, 8)\n",
      "N\n",
      "N\n",
      "הֲקַ֣לּוּ הַמַּ֔יִם מֵעַ֖ל פְּנֵ֥י הָֽאֲדָמָֽה׃ \n",
      "וַיְשַׁלַּ֥ח אֶת־הַיֹּונָ֖ה מֵאִתֹּ֑ו לִרְאֹות֙ הֲקַ֣לּוּ הַמַּ֔יִם מֵעַ֖ל פְּנֵ֥י הָֽאֲדָמָֽה׃ \n",
      "\n",
      "('Esther', 10, 2)\n",
      "N\n",
      "N\n",
      "הֲלֹוא־הֵ֣ם כְּתוּבִ֗ים עַל־סֵ֨פֶר֙ דִּבְרֵ֣י הַיָּמִ֔ים לְמַלְכֵ֖י מָדַ֥י וּפָרָֽס׃ \n",
      "וְכָל־מַעֲשֵׂ֤ה תָקְפֹּו֙ וּגְב֣וּרָתֹ֔ו וּפָרָשַׁת֙ גְּדֻלַּ֣ת מָרְדֳּכַ֔י אֲשֶׁ֥ר גִּדְּלֹ֖ו הַמֶּ֑לֶךְ הֲלֹוא־הֵ֣ם כְּתוּבִ֗ים עַל־סֵ֨פֶר֙ דִּבְרֵ֣י הַיָּמִ֔ים לְמַלְכֵ֖י מָדַ֥י וּפָרָֽס׃ \n",
      "\n",
      "('Esther', 4, 5)\n",
      "N\n",
      "?N\n",
      "מַה־זֶּ֖ה \n",
      "וַתִּקְרָא֩ אֶסְתֵּ֨ר לַהֲתָ֜ךְ מִסָּרִיסֵ֤י הַמֶּ֨לֶךְ֙ אֲשֶׁ֣ר הֶעֱמִ֣יד לְפָנֶ֔יהָ וַתְּצַוֵּ֖הוּ עַֽל־מָרְדֳּכָ֑י לָדַ֥עַת מַה־זֶּ֖ה וְעַל־מַה־זֶּֽה׃ \n",
      "\n",
      "('Esther', 3, 4)\n",
      "N\n",
      "N\n",
      "הֲיַֽעַמְדוּ֙ דִּבְרֵ֣י מָרְדֳּכַ֔י \n",
      "וַיְהִ֗י כְּאָמְרָ֤ם אֵלָיו֙ יֹ֣ום וָיֹ֔ום וְלֹ֥א שָׁמַ֖ע אֲלֵיהֶ֑ם וַיַּגִּ֣ידוּ לְהָמָ֗ן לִרְאֹות֙ הֲיַֽעַמְדוּ֙ דִּבְרֵ֣י מָרְדֳּכַ֔י כִּֽי־הִגִּ֥יד לָהֶ֖ם אֲשֶׁר־ה֥וּא יְהוּדִֽי׃ \n",
      "\n"
     ]
    }
   ],
   "source": [
    "for r in questions:\n",
    "    \n",
    "    clause = r[1]\n",
    "    \n",
    "    verse = L.u(clause, otype='verse')[0]\n",
    "    \n",
    "    print(T.sectionFromNode(clause))\n",
    "    print(F.domain.v(clause))\n",
    "    print(F.txt.v(clause))\n",
    "    print(T.text(L.d(clause, otype='word')))\n",
    "    print(T.text(L.d(verse, otype='word')))\n",
    "    print()"
   ]
  },
  {
   "cell_type": "code",
   "execution_count": null,
   "metadata": {
    "collapsed": true
   },
   "outputs": [],
   "source": []
  }
 ],
 "metadata": {
  "kernelspec": {
   "display_name": "Python 3",
   "language": "python",
   "name": "python3"
  },
  "language_info": {
   "codemirror_mode": {
    "name": "ipython",
    "version": 3
   },
   "file_extension": ".py",
   "mimetype": "text/x-python",
   "name": "python",
   "nbconvert_exporter": "python",
   "pygments_lexer": "ipython3",
   "version": "3.6.3"
  }
 },
 "nbformat": 4,
 "nbformat_minor": 2
}
