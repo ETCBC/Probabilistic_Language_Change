{
 "cells": [
  {
   "cell_type": "code",
   "execution_count": 17,
   "metadata": {},
   "outputs": [],
   "source": [
    "import os\n",
    "os.sys.path.append('../project_code')\n",
    "\n",
    "from data.bhsa import book_sets, get_data\n",
    "from markov.Markov_Chain import *\n",
    "\n",
    "test = get_data(books=\"all\")"
   ]
  },
  {
   "cell_type": "code",
   "execution_count": 18,
   "metadata": {},
   "outputs": [],
   "source": [
    "features = {'clause_types', 'phrase_functions', 'phrase_types', 'word_pos'}\n",
    "domain = {'N', 'Q', 'D'}"
   ]
  },
  {
   "cell_type": "code",
   "execution_count": 19,
   "metadata": {},
   "outputs": [],
   "source": [
    "data = collections.defaultdict(dict)\n",
    "for f in features:\n",
    "    for d in domain:\n",
    "        transMatrix = transitionMatrix(test[f][d], False) \n",
    "        #Here, transformations can be performed\n",
    "        transDict = df_dict_Transformation(transMatrix)\n",
    "        data[f][d] = pd.DataFrame(transDict).fillna(0)"
   ]
  },
  {
   "cell_type": "code",
   "execution_count": 20,
   "metadata": {},
   "outputs": [
    {
     "data": {
      "text/html": [
       "<div>\n",
       "<style>\n",
       "    .dataframe thead tr:only-child th {\n",
       "        text-align: right;\n",
       "    }\n",
       "\n",
       "    .dataframe thead th {\n",
       "        text-align: left;\n",
       "    }\n",
       "\n",
       "    .dataframe tbody tr th {\n",
       "        vertical-align: top;\n",
       "    }\n",
       "</style>\n",
       "<table border=\"1\" class=\"dataframe\">\n",
       "  <thead>\n",
       "    <tr style=\"text-align: right;\">\n",
       "      <th></th>\n",
       "      <th>1_Chronicles</th>\n",
       "      <th>1_Kings</th>\n",
       "      <th>1_Samuel</th>\n",
       "      <th>2_Chronicles</th>\n",
       "      <th>2_Kings</th>\n",
       "      <th>2_Samuel</th>\n",
       "      <th>Amos</th>\n",
       "      <th>Daniel</th>\n",
       "      <th>Deuteronomy</th>\n",
       "      <th>Ecclesiastes</th>\n",
       "      <th>...</th>\n",
       "      <th>Micah</th>\n",
       "      <th>Nahum</th>\n",
       "      <th>Nehemiah</th>\n",
       "      <th>Numbers</th>\n",
       "      <th>Proverbs</th>\n",
       "      <th>Psalms</th>\n",
       "      <th>Ruth</th>\n",
       "      <th>Song_of_songs</th>\n",
       "      <th>Zechariah</th>\n",
       "      <th>Zephaniah</th>\n",
       "    </tr>\n",
       "  </thead>\n",
       "  <tbody>\n",
       "    <tr>\n",
       "      <th>Adju-&gt;Adju</th>\n",
       "      <td>24.0</td>\n",
       "      <td>5.0</td>\n",
       "      <td>5.0</td>\n",
       "      <td>21.0</td>\n",
       "      <td>4.0</td>\n",
       "      <td>1.0</td>\n",
       "      <td>0.0</td>\n",
       "      <td>0.0</td>\n",
       "      <td>4.0</td>\n",
       "      <td>0.0</td>\n",
       "      <td>...</td>\n",
       "      <td>0.0</td>\n",
       "      <td>0.0</td>\n",
       "      <td>7.0</td>\n",
       "      <td>11.0</td>\n",
       "      <td>0.0</td>\n",
       "      <td>4.0</td>\n",
       "      <td>0.0</td>\n",
       "      <td>0.0</td>\n",
       "      <td>0.0</td>\n",
       "      <td>0.0</td>\n",
       "    </tr>\n",
       "    <tr>\n",
       "      <th>Adju-&gt;Cmpl</th>\n",
       "      <td>23.0</td>\n",
       "      <td>6.0</td>\n",
       "      <td>5.0</td>\n",
       "      <td>31.0</td>\n",
       "      <td>11.0</td>\n",
       "      <td>9.0</td>\n",
       "      <td>0.0</td>\n",
       "      <td>0.0</td>\n",
       "      <td>2.0</td>\n",
       "      <td>0.0</td>\n",
       "      <td>...</td>\n",
       "      <td>0.0</td>\n",
       "      <td>0.0</td>\n",
       "      <td>3.0</td>\n",
       "      <td>4.0</td>\n",
       "      <td>0.0</td>\n",
       "      <td>2.0</td>\n",
       "      <td>0.0</td>\n",
       "      <td>0.0</td>\n",
       "      <td>0.0</td>\n",
       "      <td>0.0</td>\n",
       "    </tr>\n",
       "    <tr>\n",
       "      <th>Adju-&gt;Conj</th>\n",
       "      <td>81.0</td>\n",
       "      <td>83.0</td>\n",
       "      <td>45.0</td>\n",
       "      <td>182.0</td>\n",
       "      <td>75.0</td>\n",
       "      <td>61.0</td>\n",
       "      <td>2.0</td>\n",
       "      <td>19.0</td>\n",
       "      <td>31.0</td>\n",
       "      <td>0.0</td>\n",
       "      <td>...</td>\n",
       "      <td>1.0</td>\n",
       "      <td>0.0</td>\n",
       "      <td>43.0</td>\n",
       "      <td>47.0</td>\n",
       "      <td>2.0</td>\n",
       "      <td>37.0</td>\n",
       "      <td>4.0</td>\n",
       "      <td>0.0</td>\n",
       "      <td>6.0</td>\n",
       "      <td>0.0</td>\n",
       "    </tr>\n",
       "    <tr>\n",
       "      <th>Adju-&gt;Exst</th>\n",
       "      <td>0.0</td>\n",
       "      <td>0.0</td>\n",
       "      <td>0.0</td>\n",
       "      <td>0.0</td>\n",
       "      <td>0.0</td>\n",
       "      <td>0.0</td>\n",
       "      <td>0.0</td>\n",
       "      <td>0.0</td>\n",
       "      <td>0.0</td>\n",
       "      <td>0.0</td>\n",
       "      <td>...</td>\n",
       "      <td>0.0</td>\n",
       "      <td>0.0</td>\n",
       "      <td>0.0</td>\n",
       "      <td>0.0</td>\n",
       "      <td>0.0</td>\n",
       "      <td>0.0</td>\n",
       "      <td>0.0</td>\n",
       "      <td>0.0</td>\n",
       "      <td>0.0</td>\n",
       "      <td>0.0</td>\n",
       "    </tr>\n",
       "    <tr>\n",
       "      <th>Adju-&gt;Frnt</th>\n",
       "      <td>0.0</td>\n",
       "      <td>0.0</td>\n",
       "      <td>0.0</td>\n",
       "      <td>0.0</td>\n",
       "      <td>0.0</td>\n",
       "      <td>0.0</td>\n",
       "      <td>0.0</td>\n",
       "      <td>0.0</td>\n",
       "      <td>0.0</td>\n",
       "      <td>0.0</td>\n",
       "      <td>...</td>\n",
       "      <td>0.0</td>\n",
       "      <td>0.0</td>\n",
       "      <td>0.0</td>\n",
       "      <td>1.0</td>\n",
       "      <td>0.0</td>\n",
       "      <td>0.0</td>\n",
       "      <td>0.0</td>\n",
       "      <td>0.0</td>\n",
       "      <td>0.0</td>\n",
       "      <td>0.0</td>\n",
       "    </tr>\n",
       "  </tbody>\n",
       "</table>\n",
       "<p>5 rows × 38 columns</p>\n",
       "</div>"
      ],
      "text/plain": [
       "            1_Chronicles  1_Kings  1_Samuel  2_Chronicles  2_Kings  2_Samuel  \\\n",
       "Adju->Adju          24.0      5.0       5.0          21.0      4.0       1.0   \n",
       "Adju->Cmpl          23.0      6.0       5.0          31.0     11.0       9.0   \n",
       "Adju->Conj          81.0     83.0      45.0         182.0     75.0      61.0   \n",
       "Adju->Exst           0.0      0.0       0.0           0.0      0.0       0.0   \n",
       "Adju->Frnt           0.0      0.0       0.0           0.0      0.0       0.0   \n",
       "\n",
       "            Amos  Daniel  Deuteronomy  Ecclesiastes    ...      Micah  Nahum  \\\n",
       "Adju->Adju   0.0     0.0          4.0           0.0    ...        0.0    0.0   \n",
       "Adju->Cmpl   0.0     0.0          2.0           0.0    ...        0.0    0.0   \n",
       "Adju->Conj   2.0    19.0         31.0           0.0    ...        1.0    0.0   \n",
       "Adju->Exst   0.0     0.0          0.0           0.0    ...        0.0    0.0   \n",
       "Adju->Frnt   0.0     0.0          0.0           0.0    ...        0.0    0.0   \n",
       "\n",
       "            Nehemiah  Numbers  Proverbs  Psalms  Ruth  Song_of_songs  \\\n",
       "Adju->Adju       7.0     11.0       0.0     4.0   0.0            0.0   \n",
       "Adju->Cmpl       3.0      4.0       0.0     2.0   0.0            0.0   \n",
       "Adju->Conj      43.0     47.0       2.0    37.0   4.0            0.0   \n",
       "Adju->Exst       0.0      0.0       0.0     0.0   0.0            0.0   \n",
       "Adju->Frnt       0.0      1.0       0.0     0.0   0.0            0.0   \n",
       "\n",
       "            Zechariah  Zephaniah  \n",
       "Adju->Adju        0.0        0.0  \n",
       "Adju->Cmpl        0.0        0.0  \n",
       "Adju->Conj        6.0        0.0  \n",
       "Adju->Exst        0.0        0.0  \n",
       "Adju->Frnt        0.0        0.0  \n",
       "\n",
       "[5 rows x 38 columns]"
      ]
     },
     "execution_count": 20,
     "metadata": {},
     "output_type": "execute_result"
    }
   ],
   "source": [
    "data[\"phrase_functions\"][\"N\"].head()"
   ]
  },
  {
   "cell_type": "code",
   "execution_count": 24,
   "metadata": {},
   "outputs": [
    {
     "data": {
      "text/plain": [
       "(1754, 32)"
      ]
     },
     "execution_count": 24,
     "metadata": {},
     "output_type": "execute_result"
    }
   ],
   "source": [
    "stack_Data = stackTransitions(data, features, {\"D\"})\n",
    "stack_Data.shape"
   ]
  },
  {
   "cell_type": "code",
   "execution_count": 25,
   "metadata": {},
   "outputs": [
    {
     "data": {
      "image/png": "[encoded data removed]",
      "text/plain": [
       "<matplotlib.figure.Figure at 0x1b58d945a90>"
      ]
     },
     "metadata": {},
     "output_type": "display_data"
    }
   ],
   "source": [
    "from sklearn.decomposition import PCA\n",
    "import matplotlib.pyplot as plt\n",
    "\n",
    "pca = PCA(n_components=10)\n",
    "\n",
    "pca_prop = pca.fit_transform(stack_Data.T.values) # PCA happens here\n",
    "\n",
    "# create a scatter plot of the projection\n",
    "plt.figure(1, figsize=(10, 7))\n",
    "plt.scatter(pca_prop[:, 0], pca_prop[:, 1])\n",
    "\n",
    "# annotate\n",
    "books = stack_Data.columns\n",
    "for i, book in enumerate(books):\n",
    "    plt.annotate(book, xy=(pca_prop[i, 0], pca_prop[i, 1]), fontsize=14)\n",
    "plt.show()"
   ]
  },
  {
   "cell_type": "code",
   "execution_count": 187,
   "metadata": {},
   "outputs": [
    {
     "name": "stdout",
     "output_type": "stream",
     "text": [
      "3281.35933117\n",
      "103.338531161\n",
      "57.9084381031\n",
      "6.86050653006\n",
      "6.77134684973\n",
      "4.34185974558\n",
      "3.10637169567\n",
      "2.64700827605\n",
      "2.83784476912\n",
      "3.15946274832\n"
     ]
    }
   ],
   "source": [
    "n_samples = df.shape[0]\n",
    "# We center the data and compute the sample covariance matrix.\n",
    "df -= np.mean(df.values, axis=0)\n",
    "cov_matrix = np.dot(df.values, df.T.values) / n_samples\n",
    "for eigenvector in pca.components_:\n",
    "    print(np.dot(eigenvector.T, np.dot(cov_matrix, eigenvector)))"
   ]
  },
  {
   "cell_type": "code",
   "execution_count": null,
   "metadata": {
    "collapsed": true
   },
   "outputs": [],
   "source": []
  },
  {
   "cell_type": "code",
   "execution_count": null,
   "metadata": {
    "collapsed": true
   },
   "outputs": [],
   "source": []
  }
 ],
 "metadata": {
  "kernelspec": {
   "display_name": "Python 3",
   "language": "python",
   "name": "python3"
  },
  "language_info": {
   "codemirror_mode": {
    "name": "ipython",
    "version": 3
   },
   "file_extension": ".py",
   "mimetype": "text/x-python",
   "name": "python",
   "nbconvert_exporter": "python",
   "pygments_lexer": "ipython3",
   "version": "3.6.3"
  }
 },
 "nbformat": 4,
 "nbformat_minor": 2
}
