{
 "cells": [
  {
   "cell_type": "code",
   "execution_count": 3,
   "metadata": {
    "collapsed": true
   },
   "outputs": [],
   "source": [
    "import pandas as pd\n",
    "import numpy as np\n",
    "import scipy.stats\n",
    "import matplotlib.pyplot as plt"
   ]
  },
  {
   "cell_type": "code",
   "execution_count": 8,
   "metadata": {},
   "outputs": [
    {
     "data": {
      "text/html": [
       "<div>\n",
       "<table border=\"1\" class=\"dataframe\">\n",
       "  <thead>\n",
       "    <tr style=\"text-align: right;\">\n",
       "      <th></th>\n",
       "      <th>LBH</th>\n",
       "      <th>EBH</th>\n",
       "    </tr>\n",
       "    <tr>\n",
       "      <th>Function</th>\n",
       "      <th></th>\n",
       "      <th></th>\n",
       "    </tr>\n",
       "  </thead>\n",
       "  <tbody>\n",
       "    <tr>\n",
       "      <th>CLAUSE-END</th>\n",
       "      <td>0.239572</td>\n",
       "      <td>0.240568</td>\n",
       "    </tr>\n",
       "    <tr>\n",
       "      <th>Adju</th>\n",
       "      <td>0.032620</td>\n",
       "      <td>0.016255</td>\n",
       "    </tr>\n",
       "    <tr>\n",
       "      <th>Cmpl</th>\n",
       "      <td>0.111765</td>\n",
       "      <td>0.090522</td>\n",
       "    </tr>\n",
       "    <tr>\n",
       "      <th>Conj</th>\n",
       "      <td>0.154011</td>\n",
       "      <td>0.185531</td>\n",
       "    </tr>\n",
       "    <tr>\n",
       "      <th>Frnt</th>\n",
       "      <td>0.000535</td>\n",
       "      <td>0.001190</td>\n",
       "    </tr>\n",
       "    <tr>\n",
       "      <th>Loca</th>\n",
       "      <td>0.005882</td>\n",
       "      <td>0.011447</td>\n",
       "    </tr>\n",
       "    <tr>\n",
       "      <th>ModS</th>\n",
       "      <td>0.000535</td>\n",
       "      <td>0.000183</td>\n",
       "    </tr>\n",
       "    <tr>\n",
       "      <th>Modi</th>\n",
       "      <td>0.004813</td>\n",
       "      <td>0.006685</td>\n",
       "    </tr>\n",
       "    <tr>\n",
       "      <th>NCop</th>\n",
       "      <td>0.002674</td>\n",
       "      <td>0.000595</td>\n",
       "    </tr>\n",
       "    <tr>\n",
       "      <th>Nega</th>\n",
       "      <td>0.005882</td>\n",
       "      <td>0.004808</td>\n",
       "    </tr>\n",
       "    <tr>\n",
       "      <th>Objc</th>\n",
       "      <td>0.059893</td>\n",
       "      <td>0.073306</td>\n",
       "    </tr>\n",
       "    <tr>\n",
       "      <th>PrAd</th>\n",
       "      <td>0.001604</td>\n",
       "      <td>0.000733</td>\n",
       "    </tr>\n",
       "    <tr>\n",
       "      <th>PreC</th>\n",
       "      <td>0.047594</td>\n",
       "      <td>0.036081</td>\n",
       "    </tr>\n",
       "    <tr>\n",
       "      <th>PreO</th>\n",
       "      <td>0.010160</td>\n",
       "      <td>0.008196</td>\n",
       "    </tr>\n",
       "    <tr>\n",
       "      <th>PreS</th>\n",
       "      <td>0.002139</td>\n",
       "      <td>0.003388</td>\n",
       "    </tr>\n",
       "    <tr>\n",
       "      <th>Pred</th>\n",
       "      <td>0.168449</td>\n",
       "      <td>0.189881</td>\n",
       "    </tr>\n",
       "    <tr>\n",
       "      <th>Ques</th>\n",
       "      <td>0.001604</td>\n",
       "      <td>0.000092</td>\n",
       "    </tr>\n",
       "    <tr>\n",
       "      <th>Rela</th>\n",
       "      <td>0.028342</td>\n",
       "      <td>0.013507</td>\n",
       "    </tr>\n",
       "    <tr>\n",
       "      <th>Subj</th>\n",
       "      <td>0.102674</td>\n",
       "      <td>0.102701</td>\n",
       "    </tr>\n",
       "    <tr>\n",
       "      <th>Supp</th>\n",
       "      <td>0.000535</td>\n",
       "      <td>0.000595</td>\n",
       "    </tr>\n",
       "    <tr>\n",
       "      <th>Time</th>\n",
       "      <td>0.018717</td>\n",
       "      <td>0.010806</td>\n",
       "    </tr>\n",
       "    <tr>\n",
       "      <th>Exst</th>\n",
       "      <td>0.000000</td>\n",
       "      <td>0.000183</td>\n",
       "    </tr>\n",
       "    <tr>\n",
       "      <th>IntS</th>\n",
       "      <td>0.000000</td>\n",
       "      <td>0.000046</td>\n",
       "    </tr>\n",
       "    <tr>\n",
       "      <th>Intj</th>\n",
       "      <td>0.000000</td>\n",
       "      <td>0.002518</td>\n",
       "    </tr>\n",
       "    <tr>\n",
       "      <th>NCoS</th>\n",
       "      <td>0.000000</td>\n",
       "      <td>0.000183</td>\n",
       "    </tr>\n",
       "  </tbody>\n",
       "</table>\n",
       "</div>"
      ],
      "text/plain": [
       "                 LBH       EBH\n",
       "Function                      \n",
       "CLAUSE-END  0.239572  0.240568\n",
       "Adju        0.032620  0.016255\n",
       "Cmpl        0.111765  0.090522\n",
       "Conj        0.154011  0.185531\n",
       "Frnt        0.000535  0.001190\n",
       "Loca        0.005882  0.011447\n",
       "ModS        0.000535  0.000183\n",
       "Modi        0.004813  0.006685\n",
       "NCop        0.002674  0.000595\n",
       "Nega        0.005882  0.004808\n",
       "Objc        0.059893  0.073306\n",
       "PrAd        0.001604  0.000733\n",
       "PreC        0.047594  0.036081\n",
       "PreO        0.010160  0.008196\n",
       "PreS        0.002139  0.003388\n",
       "Pred        0.168449  0.189881\n",
       "Ques        0.001604  0.000092\n",
       "Rela        0.028342  0.013507\n",
       "Subj        0.102674  0.102701\n",
       "Supp        0.000535  0.000595\n",
       "Time        0.018717  0.010806\n",
       "Exst        0.000000  0.000183\n",
       "IntS        0.000000  0.000046\n",
       "Intj        0.000000  0.002518\n",
       "NCoS        0.000000  0.000183"
      ]
     },
     "execution_count": 8,
     "metadata": {},
     "output_type": "execute_result"
    }
   ],
   "source": [
    "books = [\"LBH\",\"EBH\"]\n",
    "\n",
    "df = pd.read_csv(\"MC_Probabilities_\"+books[0]+\".csv\", sep=\";\")\n",
    "for i in range(1,len(books)):\n",
    "    dfbook = pd.read_csv(\"MC_Probabilities_\"+books[i]+\".csv\", sep=\";\")\n",
    "    df = pd.merge(df,dfbook, on='Function', how=\"outer\")\n",
    "df = df.fillna(0)\n",
    "df = df.set_index(\"Function\")\n",
    "df.columns = books\n",
    "df"
   ]
  },
  {
   "cell_type": "code",
   "execution_count": 9,
   "metadata": {
    "scrolled": false
   },
   "outputs": [
    {
     "data": {
      "image/png": "[encoded data removed]",
      "text/plain": [
       "<matplotlib.figure.Figure at 0x1f0df562b38>"
      ]
     },
     "metadata": {},
     "output_type": "display_data"
    }
   ],
   "source": [
    "plt.figure(figsize= (20,10))\n",
    "for column in df:\n",
    "    dfCol = df[column]\n",
    "    #dfCol = dfCol.sort_values(ascending=False)\n",
    "    dfCol = dfCol.cumsum(0)\n",
    "    plt.plot(dfCol.values, label = column)\n",
    "plt.legend(loc='upper left',  prop={'size': 13})\n",
    "plt.show()"
   ]
  },
  {
   "cell_type": "code",
   "execution_count": 10,
   "metadata": {},
   "outputs": [
    {
     "data": {
      "text/plain": [
       "1.0"
      ]
     },
     "execution_count": 10,
     "metadata": {},
     "output_type": "execute_result"
    }
   ],
   "source": [
    "chi2, p, dof, ex = scipy.stats.chi2_contingency(df.values)\n",
    "p\n",
    "\n"
   ]
  },
  {
   "cell_type": "code",
   "execution_count": 11,
   "metadata": {},
   "outputs": [
    {
     "data": {
      "text/html": [
       "<div>\n",
       "<table border=\"1\" class=\"dataframe\">\n",
       "  <thead>\n",
       "    <tr style=\"text-align: right;\">\n",
       "      <th></th>\n",
       "      <th>LBH</th>\n",
       "      <th>EBH</th>\n",
       "    </tr>\n",
       "    <tr>\n",
       "      <th>Function</th>\n",
       "      <th></th>\n",
       "      <th></th>\n",
       "    </tr>\n",
       "  </thead>\n",
       "  <tbody>\n",
       "    <tr>\n",
       "      <th>LBH</th>\n",
       "      <td>0.000</td>\n",
       "      <td>0.0</td>\n",
       "    </tr>\n",
       "    <tr>\n",
       "      <th>EBH</th>\n",
       "      <td>0.908</td>\n",
       "      <td>0.0</td>\n",
       "    </tr>\n",
       "  </tbody>\n",
       "</table>\n",
       "</div>"
      ],
      "text/plain": [
       "            LBH  EBH\n",
       "Function            \n",
       "LBH       0.000  0.0\n",
       "EBH       0.908  0.0"
      ]
     },
     "execution_count": 11,
     "metadata": {},
     "output_type": "execute_result"
    }
   ],
   "source": [
    "import sklearn.metrics\n",
    "\n",
    "booksAmount = len(df.columns.values)\n",
    "matrix = np.zeros((booksAmount,booksAmount))\n",
    "\n",
    "for indexi,i in enumerate(df):\n",
    "    for indexj,j in enumerate(df):\n",
    "        if i != j and indexi>indexj:\n",
    "            array1 = np.array(df[i].values).transpose()\n",
    "            array2 = np.array(df[j].values).transpose()\n",
    "            a = sklearn.metrics.normalized_mutual_info_score(array2,array1)\n",
    "            matrix[indexi][indexj] = a\n",
    "\n",
    "dfScore = pd.DataFrame(matrix, columns = list(df.columns.values))\n",
    "dfScore[\"Function\"] = df.columns.values\n",
    "dfScore = dfScore.set_index(\"Function\")\n",
    "dfScore = np.round(dfScore, 3)\n",
    "dfScore\n"
   ]
  },
  {
   "cell_type": "code",
   "execution_count": null,
   "metadata": {
    "collapsed": true
   },
   "outputs": [],
   "source": []
  }
 ],
 "metadata": {
  "kernelspec": {
   "display_name": "Python 3",
   "language": "python",
   "name": "python3"
  },
  "language_info": {
   "codemirror_mode": {
    "name": "ipython",
    "version": 3
   },
   "file_extension": ".py",
   "mimetype": "text/x-python",
   "name": "python",
   "nbconvert_exporter": "python",
   "pygments_lexer": "ipython3",
   "version": "3.6.1"
  }
 },
 "nbformat": 4,
 "nbformat_minor": 2
}
